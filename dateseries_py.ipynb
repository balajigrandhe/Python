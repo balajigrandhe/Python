{
 "cells": [
  {
   "cell_type": "code",
   "execution_count": 2,
   "metadata": {},
   "outputs": [],
   "source": [
    "import pandas as pd\n",
    "from datetime import datetime, time, date"
   ]
  },
  {
   "cell_type": "code",
   "execution_count": 20,
   "metadata": {},
   "outputs": [],
   "source": [
    "start_date = \"1998-01-01\""
   ]
  },
  {
   "cell_type": "code",
   "execution_count": 21,
   "metadata": {},
   "outputs": [
    {
     "data": {
      "text/plain": [
       "DatetimeIndex(['1998-01-01', '1998-01-02', '1998-01-03', '1998-01-04',\n",
       "               '1998-01-05', '1998-01-06', '1998-01-07', '1998-01-08',\n",
       "               '1998-01-09', '1998-01-10',\n",
       "               ...\n",
       "               '2047-12-10', '2047-12-11', '2047-12-12', '2047-12-13',\n",
       "               '2047-12-14', '2047-12-15', '2047-12-16', '2047-12-17',\n",
       "               '2047-12-18', '2047-12-19'],\n",
       "              dtype='datetime64[ns]', length=18250, freq='D')"
      ]
     },
     "metadata": {},
     "output_type": "display_data"
    }
   ],
   "source": [
    "date_series = pd.date_range(start=start_date, periods=50*365, freq='D')\n",
    "display(date_series)"
   ]
  },
  {
   "cell_type": "code",
   "execution_count": 22,
   "metadata": {},
   "outputs": [
    {
     "name": "stdout",
     "output_type": "stream",
     "text": [
      "<class 'pandas.core.indexes.datetimes.DatetimeIndex'>\n"
     ]
    }
   ],
   "source": [
    "print(type(date_series))"
   ]
  },
  {
   "cell_type": "code",
   "execution_count": 23,
   "metadata": {},
   "outputs": [],
   "source": [
    "df = date_series.to_frame(name='date',index=False)"
   ]
  },
  {
   "cell_type": "code",
   "execution_count": 24,
   "metadata": {},
   "outputs": [
    {
     "data": {
      "text/plain": [
       "0       1998-01-01\n",
       "1       1998-01-02\n",
       "2       1998-01-03\n",
       "3       1998-01-04\n",
       "4       1998-01-05\n",
       "           ...    \n",
       "18245   2047-12-15\n",
       "18246   2047-12-16\n",
       "18247   2047-12-17\n",
       "18248   2047-12-18\n",
       "18249   2047-12-19\n",
       "Name: date, Length: 18250, dtype: datetime64[ns]"
      ]
     },
     "execution_count": 24,
     "metadata": {},
     "output_type": "execute_result"
    }
   ],
   "source": [
    "df['date']"
   ]
  },
  {
   "cell_type": "code",
   "execution_count": 29,
   "metadata": {},
   "outputs": [],
   "source": [
    "df['day'] = df['date'].dt.day\n",
    "df['month'] = df['date'].dt.month\n",
    "df['year'] = df['date'].dt.year\n",
    "df['day_of_week'] = df['date'].dt.day_of_week\n",
    "df['day_of_year'] = df['date'].dt.day_of_year\n",
    "df['days_in_month'] = df['date'].dt.days_in_month\n",
    "df['quarter'] = df['date'].dt.quarter"
   ]
  },
  {
   "cell_type": "code",
   "execution_count": 31,
   "metadata": {},
   "outputs": [
    {
     "data": {
      "text/html": [
       "<div>\n",
       "<style scoped>\n",
       "    .dataframe tbody tr th:only-of-type {\n",
       "        vertical-align: middle;\n",
       "    }\n",
       "\n",
       "    .dataframe tbody tr th {\n",
       "        vertical-align: top;\n",
       "    }\n",
       "\n",
       "    .dataframe thead th {\n",
       "        text-align: right;\n",
       "    }\n",
       "</style>\n",
       "<table border=\"1\" class=\"dataframe\">\n",
       "  <thead>\n",
       "    <tr style=\"text-align: right;\">\n",
       "      <th></th>\n",
       "      <th>date</th>\n",
       "      <th>day</th>\n",
       "      <th>month</th>\n",
       "      <th>year</th>\n",
       "      <th>day_of_week</th>\n",
       "      <th>day_of_year</th>\n",
       "      <th>days_in_month</th>\n",
       "      <th>quarter</th>\n",
       "    </tr>\n",
       "  </thead>\n",
       "  <tbody>\n",
       "    <tr>\n",
       "      <th>18245</th>\n",
       "      <td>2047-12-15</td>\n",
       "      <td>15</td>\n",
       "      <td>12</td>\n",
       "      <td>2047</td>\n",
       "      <td>6</td>\n",
       "      <td>349</td>\n",
       "      <td>31</td>\n",
       "      <td>4</td>\n",
       "    </tr>\n",
       "    <tr>\n",
       "      <th>18246</th>\n",
       "      <td>2047-12-16</td>\n",
       "      <td>16</td>\n",
       "      <td>12</td>\n",
       "      <td>2047</td>\n",
       "      <td>0</td>\n",
       "      <td>350</td>\n",
       "      <td>31</td>\n",
       "      <td>4</td>\n",
       "    </tr>\n",
       "    <tr>\n",
       "      <th>18247</th>\n",
       "      <td>2047-12-17</td>\n",
       "      <td>17</td>\n",
       "      <td>12</td>\n",
       "      <td>2047</td>\n",
       "      <td>1</td>\n",
       "      <td>351</td>\n",
       "      <td>31</td>\n",
       "      <td>4</td>\n",
       "    </tr>\n",
       "    <tr>\n",
       "      <th>18248</th>\n",
       "      <td>2047-12-18</td>\n",
       "      <td>18</td>\n",
       "      <td>12</td>\n",
       "      <td>2047</td>\n",
       "      <td>2</td>\n",
       "      <td>352</td>\n",
       "      <td>31</td>\n",
       "      <td>4</td>\n",
       "    </tr>\n",
       "    <tr>\n",
       "      <th>18249</th>\n",
       "      <td>2047-12-19</td>\n",
       "      <td>19</td>\n",
       "      <td>12</td>\n",
       "      <td>2047</td>\n",
       "      <td>3</td>\n",
       "      <td>353</td>\n",
       "      <td>31</td>\n",
       "      <td>4</td>\n",
       "    </tr>\n",
       "  </tbody>\n",
       "</table>\n",
       "</div>"
      ],
      "text/plain": [
       "            date  day  month  year  day_of_week  day_of_year  days_in_month  \\\n",
       "18245 2047-12-15   15     12  2047            6          349             31   \n",
       "18246 2047-12-16   16     12  2047            0          350             31   \n",
       "18247 2047-12-17   17     12  2047            1          351             31   \n",
       "18248 2047-12-18   18     12  2047            2          352             31   \n",
       "18249 2047-12-19   19     12  2047            3          353             31   \n",
       "\n",
       "       quarter  \n",
       "18245        4  \n",
       "18246        4  \n",
       "18247        4  \n",
       "18248        4  \n",
       "18249        4  "
      ]
     },
     "execution_count": 31,
     "metadata": {},
     "output_type": "execute_result"
    }
   ],
   "source": [
    "df.tail()"
   ]
  },
  {
   "cell_type": "code",
   "execution_count": null,
   "metadata": {},
   "outputs": [],
   "source": []
  }
 ],
 "metadata": {
  "kernelspec": {
   "display_name": "Python 3",
   "language": "python",
   "name": "python3"
  },
  "language_info": {
   "codemirror_mode": {
    "name": "ipython",
    "version": 3
   },
   "file_extension": ".py",
   "mimetype": "text/x-python",
   "name": "python",
   "nbconvert_exporter": "python",
   "pygments_lexer": "ipython3",
   "version": "3.9.12"
  }
 },
 "nbformat": 4,
 "nbformat_minor": 2
}
